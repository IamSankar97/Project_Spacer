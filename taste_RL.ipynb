{
 "cells": [
  {
   "cell_type": "code",
   "execution_count": 1,
   "metadata": {
    "collapsed": true
   },
   "outputs": [],
   "source": [
    "import gym\n",
    "import stable_baselines3\n",
    "from gym import spaces\n",
    "import numpy as np\n",
    "import os\n",
    "import sys\n",
    "import random\n",
    "from PIL import Image, ImageFilter\n",
    "from collections import OrderedDict\n",
    "import matplotlib.pyplot as plt\n",
    "from stable_baselines3 import PPO\n",
    "\n",
    "sys.path.append('/home/mohanty/PycharmProjects/Project_Spacer/spacer_gym/envs/')\n",
    "import spacer_gym\n",
    "import resnet\n",
    "import csv\n",
    "import re\n",
    "import torch\n",
    "import torch.nn as nn\n",
    "import torch.nn.functional as F\n",
    "# import torchvision\n",
    "from stable_baselines3.common.torch_layers import BaseFeaturesExtractor\n",
    "from stable_baselines3.common.noise import OrnsteinUhlenbeckActionNoise\n",
    "from stable_baselines3.common.logger import configure\n",
    "from stable_baselines3.common.callbacks import BaseCallback\n",
    "from typing import Callable\n",
    "import datetime\n",
    "import logging\n",
    "import torchmetrics\n",
    "from collections import deque\n",
    "from utils import get_circular_corps\n",
    "import torchvision.transforms as transforms\n",
    "from torchvision.datasets import ImageFolder\n",
    "import cv2"
   ]
  },
  {
   "cell_type": "code",
   "execution_count": 2,
   "outputs": [
    {
     "ename": "ModuleNotFoundError",
     "evalue": "No module named 'spacer_single_PPO_policy_scribed_slid_window_250_250_22_18um'",
     "output_type": "error",
     "traceback": [
      "\u001B[0;31m---------------------------------------------------------------------------\u001B[0m",
      "\u001B[0;31mModuleNotFoundError\u001B[0m                       Traceback (most recent call last)",
      "Cell \u001B[0;32mIn[2], line 1\u001B[0m\n\u001B[0;32m----> 1\u001B[0m \u001B[38;5;28;01mfrom\u001B[39;00m \u001B[38;5;21;01mspacer_single_PPO_policy_scribed_slid_window_250_250_22_18um\u001B[39;00m \u001B[38;5;28;01mimport\u001B[39;00m Penv\n",
      "\u001B[0;31mModuleNotFoundError\u001B[0m: No module named 'spacer_single_PPO_policy_scribed_slid_window_250_250_22_18um'"
     ]
    }
   ],
   "source": [
    "from spacer_single_PPO_policy_scribed_slid_window_250_250_22_18um import Penv"
   ],
   "metadata": {
    "collapsed": false
   }
  },
  {
   "cell_type": "code",
   "execution_count": null,
   "outputs": [],
   "source": [],
   "metadata": {
    "collapsed": false
   }
  }
 ],
 "metadata": {
  "kernelspec": {
   "display_name": "Python 3",
   "language": "python",
   "name": "python3"
  },
  "language_info": {
   "codemirror_mode": {
    "name": "ipython",
    "version": 2
   },
   "file_extension": ".py",
   "mimetype": "text/x-python",
   "name": "python",
   "nbconvert_exporter": "python",
   "pygments_lexer": "ipython2",
   "version": "2.7.6"
  }
 },
 "nbformat": 4,
 "nbformat_minor": 0
}
